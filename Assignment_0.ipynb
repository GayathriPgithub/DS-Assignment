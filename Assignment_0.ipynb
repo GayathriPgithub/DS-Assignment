{
  "nbformat": 4,
  "nbformat_minor": 0,
  "metadata": {
    "colab": {
      "name": "Assignment_0.ipynb",
      "provenance": [],
      "collapsed_sections": [],
      "authorship_tag": "ABX9TyNc7o58Y/RibjDvQP3CQCIg",
      "include_colab_link": true
    },
    "kernelspec": {
      "name": "python3",
      "display_name": "Python 3"
    },
    "language_info": {
      "name": "python"
    }
  },
  "cells": [
    {
      "cell_type": "markdown",
      "metadata": {
        "id": "view-in-github",
        "colab_type": "text"
      },
      "source": [
        "<a href=\"https://colab.research.google.com/github/GayathriPgithub/DS-Assignment/blob/main/Assignment_0.ipynb\" target=\"_parent\"><img src=\"https://colab.research.google.com/assets/colab-badge.svg\" alt=\"Open In Colab\"/></a>"
      ]
    },
    {
      "cell_type": "markdown",
      "source": [
        ""
      ],
      "metadata": {
        "id": "DZJ9VerTK_lk"
      }
    },
    {
      "cell_type": "markdown",
      "source": [
        "REGISTRATION"
      ],
      "metadata": {
        "id": "03Y1jJyoaTxa"
      }
    },
    {
      "cell_type": "code",
      "execution_count": 4,
      "metadata": {
        "colab": {
          "base_uri": "https://localhost:8080/",
          "height": 52
        },
        "id": "h6-dkgPhK3rp",
        "outputId": "e7460798-1988-4f5f-e2af-6bc0b2984983"
      },
      "outputs": [
        {
          "name": "stdout",
          "output_type": "stream",
          "text": [
            "enter email to register:kish@gmail.com\n"
          ]
        },
        {
          "output_type": "execute_result",
          "data": {
            "text/plain": [
              "'User exists'"
            ],
            "application/vnd.google.colaboratory.intrinsic+json": {
              "type": "string"
            }
          },
          "metadata": {},
          "execution_count": 4
        }
      ],
      "source": [
        "import re\n",
        "def registration():\n",
        "     user=input('enter email to register:')\n",
        "     file=open('credentials.txt','r')\n",
        "     info=file.read()\n",
        "     if user in info:\n",
        "       return 'User exists'\n",
        "     f.close()  \n",
        "     password=input('enter password to register:')\n",
        "     user_pattern=r'\\b[A-Za-z0-9._%+-]+@[A-Za-z0-9.-]+\\.[A-Z|a-z]{2,}\\b'\n",
        "     pass_pattern=\"^(?=.*[a-z])(?=.*[A-Z])(?=.*\\d)(?=.*[@!#$%&*?])[A-Za-z\\d@#!$%&*?]{5,16}$\"\n",
        "     compile=re.compile(pass_pattern)\n",
        "     if (re.fullmatch(user_pattern,user)):\n",
        "       if (re.search(compile,password)): \n",
        "             data=user+','+password+\"\\n\"\n",
        "             file=open('credentials.txt','a')  \n",
        "             file.write(data)\n",
        "             print('Registration is successful')      \n",
        "             \n",
        "       else:\n",
        "              print('Passwors invalid')\n",
        "     else:\n",
        "        print('Email is invalid')\n",
        "\n",
        "\n",
        "    \n",
        "registration()"
      ]
    },
    {
      "cell_type": "markdown",
      "source": [
        "LOGIN"
      ],
      "metadata": {
        "id": "l3no53uFLSHS"
      }
    },
    {
      "cell_type": "code",
      "source": [
        "def login():\n",
        "   file2=open(\"credentials.txt\",\"r\")\n",
        "   user=input(\" login username \")\n",
        "   \n",
        "   for i in file2:\n",
        "     s=i.split(',')\n",
        "     if user==s[0]:\n",
        "       password=input('login password')\n",
        "       if password==s[1].strip(\"\\n\"):\n",
        "           print('Login successful')\n",
        "       else:\n",
        "         forget_password()\n",
        "     else:\n",
        "         registration()\n",
        "login()"
      ],
      "metadata": {
        "id": "BBauepQ2LIht"
      },
      "execution_count": null,
      "outputs": []
    },
    {
      "cell_type": "markdown",
      "source": [
        "FORGET PASSWORD"
      ],
      "metadata": {
        "id": "RlRkykEuLUo9"
      }
    },
    {
      "cell_type": "code",
      "source": [
        "def forget_password():\n",
        " file2=open(\"credentials.txt\",\"r\")\n",
        " s=file2.readlines()\n",
        " user=input(\"enter the username: To retreive password \")\n",
        " for i in s:\n",
        "   s1=i.split(',')\n",
        "   if user==s1[0]:\n",
        "    print(s1[1])\n",
        "\n",
        "forget_password()"
      ],
      "metadata": {
        "id": "Ope87WVBLXUQ"
      },
      "execution_count": null,
      "outputs": []
    },
    {
      "cell_type": "markdown",
      "source": [
        "MAIN()"
      ],
      "metadata": {
        "id": "_y4kduqwLfHh"
      }
    },
    {
      "cell_type": "code",
      "source": [
        "def main():\n",
        "  option=input()\n",
        "  if option=='R':\n",
        "    registration()\n",
        "  elif option=='L':  \n",
        "    login()\n",
        "  elif option=='FP':\n",
        "     forget_password()\n",
        "  else:\n",
        "     print('give correct input')  \n",
        "\n",
        "main()   "
      ],
      "metadata": {
        "id": "-5mid5bpLh43"
      },
      "execution_count": null,
      "outputs": []
    }
  ]
}